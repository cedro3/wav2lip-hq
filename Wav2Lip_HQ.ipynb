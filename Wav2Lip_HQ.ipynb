{
  "cells": [
    {
      "cell_type": "markdown",
      "metadata": {
        "id": "view-in-github",
        "colab_type": "text"
      },
      "source": [
        "<a href=\"https://colab.research.google.com/github/cedro3/wav2lip-hq/blob/main/Wav2Lip_HQ.ipynb\" target=\"_parent\"><img src=\"https://colab.research.google.com/assets/colab-badge.svg\" alt=\"Open In Colab\"/></a>"
      ]
    },
    {
      "cell_type": "code",
      "execution_count": null,
      "metadata": {
        "id": "Lb6Q78lTNeSj"
      },
      "outputs": [],
      "source": [
        "#@title **Set Up**\n",
        "!git clone https://github.com/cedro3/wav2lip-hq.git\n",
        "%cd wav2lip-hq\n",
        "!pip3 install gdown\n",
        "!pip3 install -r requirements.txt\n",
        "\n",
        "!wget \"https://www.adrianbulat.com/downloads/python-fan/s3fd-619a316812.pth\" -O \"face_detection/detection/sfd/s3fd.pth\"\n",
        "\n",
        "from function import display_mp4\n",
        "! mkdir download"
      ]
    },
    {
      "cell_type": "code",
      "execution_count": null,
      "metadata": {
        "id": "H7J5GnO7PjYo"
      },
      "outputs": [],
      "source": [
        "#@title **download pth files**\n",
        "import gdown\n",
        "\n",
        "urls = {\n",
        "    \"wav2lip_gan.pth\": \"10Iu05Modfti3pDbxCFPnofmfVlbkvrCm\", \n",
        "    \"face_segmentation.pth\": \"154JgKpzCPW82qINcVieuPH3fZ2e0P812\",\n",
        "    \"esrgan_max.pth\": \"1e5LT83YckB5wFKXWV4cWOPkVRnCDmvwQ\"\n",
        "}\n",
        "\n",
        "for name, id in urls.items():\n",
        "    url = f\"https://drive.google.com/uc?id={id}\"\n",
        "    output = f\"checkpoints/{name}\"\n",
        "    gdown.download(url, output, quiet=False)\n",
        "    print(f\"Loaded {name}\")"
      ]
    },
    {
      "cell_type": "code",
      "execution_count": null,
      "metadata": {
        "id": "FziGpK3Ka21M"
      },
      "outputs": [],
      "source": [
        "#@title (If you get \"Access denied with the following error\")\n",
        "#@markdown If you get \"Access denied with the following error\" in the above block, run this block to connect colab and google drive. And then do:\n",
        "#@markdown 1. You download the pth file using your browser and upload the pth file to your google drive.\n",
        "#@markdown 2. Drag and drop the pth file from google drive to the checkpoints folder using colab's left window (it takes a while to react).\n",
        "from google.colab import drive\n",
        "drive.mount('/content/drive')\n",
        "\n"
      ]
    },
    {
      "cell_type": "code",
      "execution_count": null,
      "metadata": {
        "id": "upzbvGOmVnJT"
      },
      "outputs": [],
      "source": [
        "#@title **Lip-sync**\n",
        "face = \"taki.mp4\" #@param {type:\"string\"}\n",
        "audio = \"china.mp4\" #@param {type:\"string\"}\n",
        "face_path = \"videos/\"+face\n",
        "audio_path = \"videos/\"+audio\n",
        "\n",
        "!python inference.py \\\n",
        "        --checkpoint_path \"checkpoints/wav2lip_gan.pth\" \\\n",
        "        --segmentation_path \"checkpoints/face_segmentation.pth\" \\\n",
        "        --sr_path \"checkpoints/esrgan_max.pth\" \\\n",
        "        --face $face_path \\\n",
        "        --audio $audio_path \\\n",
        "        --outfile \"results/output.mp4\""
      ]
    },
    {
      "cell_type": "code",
      "execution_count": null,
      "metadata": {
        "id": "L_j2s0QOuOaE"
      },
      "outputs": [],
      "source": [
        "#@title **play movie**\n",
        "display_mp4('results/output.mp4')"
      ]
    },
    {
      "cell_type": "code",
      "execution_count": null,
      "metadata": {
        "id": "Diif5vxIvCXX"
      },
      "outputs": [],
      "source": [
        "#@title **Download movie**\n",
        "import os\n",
        "import shutil\n",
        "from google.colab import files\n",
        "\n",
        "file_path = 'download/'+os.path.splitext(face)[0]+'_'+os.path.splitext(audio)[0]+'.mp4'\n",
        "shutil.copy('results/output.mp4', file_path)\n",
        "files.download(file_path)"
      ]
    }
  ],
  "metadata": {
    "accelerator": "GPU",
    "colab": {
      "provenance": [],
      "include_colab_link": true
    },
    "kernelspec": {
      "display_name": "Python 3",
      "name": "python3"
    },
    "language_info": {
      "name": "python"
    }
  },
  "nbformat": 4,
  "nbformat_minor": 0
}